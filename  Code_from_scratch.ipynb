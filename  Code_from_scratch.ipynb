{
  "nbformat": 4,
  "nbformat_minor": 0,
  "metadata": {
    "colab": {
      "provenance": [],
      "authorship_tag": "ABX9TyMsr9Vxzvsax44+VAuvwafN",
      "include_colab_link": true
    },
    "kernelspec": {
      "name": "python3",
      "display_name": "Python 3"
    },
    "language_info": {
      "name": "python"
    }
  },
  "cells": [
    {
      "cell_type": "markdown",
      "metadata": {
        "id": "view-in-github",
        "colab_type": "text"
      },
      "source": [
        "<a href=\"https://colab.research.google.com/github/HaddoucheMilissa/Linear-regression-from-scratch-/blob/main/%20Code_from_scratch.ipynb\" target=\"_parent\"><img src=\"https://colab.research.google.com/assets/colab-badge.svg\" alt=\"Open In Colab\"/></a>"
      ]
    },
    {
      "cell_type": "code",
      "execution_count": 16,
      "metadata": {
        "colab": {
          "base_uri": "https://localhost:8080/",
          "height": 448
        },
        "id": "DFob46b6y1sX",
        "outputId": "5c43fc30-f55e-47bb-cedf-27ca9795c3b6"
      },
      "outputs": [
        {
          "output_type": "execute_result",
          "data": {
            "text/plain": [
              "<matplotlib.collections.PathCollection at 0x7cf8e0b26380>"
            ]
          },
          "metadata": {},
          "execution_count": 16
        },
        {
          "output_type": "display_data",
          "data": {
            "text/plain": [
              "<Figure size 640x480 with 1 Axes>"
            ],
            "image/png": "[encoded data removed]"
          },
          "metadata": {}
        }
      ],
      "source": [
        "from statistics import mean\n",
        "import numpy as np\n",
        "import random\n",
        "import matplotlib.pyplot as plt\n",
        "from matplotlib import style\n",
        "style.use('ggplot')\n",
        "\n",
        "#DATA CREATION:\n",
        "def create_data(hm,variance,step=2,correlation=False):\n",
        "  val=1\n",
        "  ys=[]\n",
        "  for i in range(hm):\n",
        "    y=val+random.randrange(-variance, variance)\n",
        "    ys.append(y)\n",
        "    if correlation and correlation=='pos':\n",
        "      val+=step\n",
        "    elif correlation and correlation=='neg':\n",
        "      val-=step\n",
        "    xs =[i for i in range(len(ys))]\n",
        "  return np.array(xs, dtype=np.float64), np.array(ys, dtype=np.float64)\n",
        "xs,ys=create_data(40,20,2,'pos')\n",
        "plt.scatter(xs,ys,label='data')\n",
        "\n",
        "\n",
        "\n",
        "\n",
        "\n",
        "\n",
        "\n",
        "\n"
      ]
    },
    {
      "cell_type": "code",
      "source": [],
      "metadata": {
        "id": "Y1N391uczTn0"
      },
      "execution_count": null,
      "outputs": []
    }
  ]
}